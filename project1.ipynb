{
  "nbformat": 4,
  "nbformat_minor": 0,
  "metadata": {
    "orig_nbformat": 4,
    "language_info": {
      "name": "python",
      "version": "3.8.5",
      "mimetype": "text/x-python",
      "codemirror_mode": {
        "name": "ipython",
        "version": 3
      },
      "pygments_lexer": "ipython3",
      "nbconvert_exporter": "python",
      "file_extension": ".py"
    },
    "kernelspec": {
      "name": "python3",
      "display_name": "Python 3.8.5 64-bit ('base': conda)"
    },
    "interpreter": {
      "hash": "64fbe09aa140226ebef7b134872e6e66e3d916dbcb74e6f22199975e4c5ac526"
    },
    "colab": {
      "name": "project1",
      "provenance": [],
      "collapsed_sections": []
    }
  },
  "cells": [
    {
      "cell_type": "code",
      "metadata": {
        "id": "lhq2mUgRSltj"
      },
      "source": [
        "import json\n",
        "import pandas as pd"
      ],
      "execution_count": 5,
      "outputs": []
    },
    {
      "cell_type": "code",
      "metadata": {
        "id": "4z6Fi3_ESltl"
      },
      "source": [
        "fd = open(\"record.json\",'r')\n",
        "rd = fd.read()\n",
        "fd.close()\n"
      ],
      "execution_count": 6,
      "outputs": []
    },
    {
      "cell_type": "code",
      "metadata": {
        "id": "lvJaq1a-pJfe"
      },
      "source": [
        "record = json.loads(rd)"
      ],
      "execution_count": 7,
      "outputs": []
    },
    {
      "cell_type": "code",
      "metadata": {
        "id": "RamWCI8xSltl"
      },
      "source": [
        "f = open(\"invoice.json\",'r')\n",
        "rdd = f.read()\n",
        "f.close()\n"
      ],
      "execution_count": 8,
      "outputs": []
    },
    {
      "cell_type": "code",
      "metadata": {
        "id": "T6zvfSrwpOYm"
      },
      "source": [
        "inv = json.loads(rdd)"
      ],
      "execution_count": 9,
      "outputs": []
    },
    {
      "cell_type": "code",
      "metadata": {
        "colab": {
          "base_uri": "https://localhost:8080/"
        },
        "id": "nUQCTrcU5rTR",
        "outputId": "38d1e28c-d5b0-4e50-e45f-257b7fe99b3a"
      },
      "source": [
        "inv"
      ],
      "execution_count": 10,
      "outputs": [
        {
          "output_type": "execute_result",
          "data": {
            "text/plain": [
              "{'0': {'Billing amount': 90,\n",
              "  'Price': 45,\n",
              "  'Product': 'Mango Juice',\n",
              "  'Transaction Id': 0,\n",
              "  'quantity': 2},\n",
              " '1': {'Billing amount': 90,\n",
              "  'Price': 90,\n",
              "  'Product': 'Mineral Water',\n",
              "  'Transaction Id': 0,\n",
              "  'quantity': 1},\n",
              " '1001': {'name': 'Choco Cake', 'pr': 100, 'qn': 34},\n",
              " '1002': {'name': 'Milk Cake', 'pr': 800, 'qn': 100},\n",
              " '1003': {'name': 'Drink', 'pr': 85, 'qn': 100},\n",
              " '1004': {'name': 'Candy', 'pr': 5, 'qn': 1000},\n",
              " '1005': {'name': 'Pen', 'pr': 20, 'qn': 100},\n",
              " '1006': {'name': 'Phone', 'pr': 50000, 'qn': 10},\n",
              " '1007': {'name': 'Mic', 'pr': 1500, 'qn': 0},\n",
              " '1008': {'name': 'Case', 'pr': 599, 'qn': 3},\n",
              " '2': {'Billing amount': 6,\n",
              "  'Price': 2,\n",
              "  'Product': 'Sauce',\n",
              "  'Transaction Id': 0,\n",
              "  'quantity': 3}}"
            ]
          },
          "metadata": {},
          "execution_count": 10
        }
      ]
    },
    {
      "cell_type": "code",
      "metadata": {
        "id": "mP5oU-RqSltm"
      },
      "source": [
        "def AddInv():\n",
        "    prod_id = str(input(\"Enter product id:\"))\n",
        "    if prod_id in record.keys():\n",
        "        print(\"Item already exists\")\n",
        "    else:\n",
        "        name = str(input(\"Enter name:\"))\n",
        "        pr = int(input(\"Enter price:\"))\n",
        "        qn = int(input(\"Enter quantity:\"))\n",
        "        mfd = input(\"Enter Manufacture date: \")\n",
        "        exp = input(\"Enter Expiry date: \")\n",
        "        record[prod_id] = {'name': name, 'pr': pr, 'qn': qn, 'mfd': mfd, 'exp': exp}\n",
        "        js = json.dumps(record)\n",
        "        fd = open(\"record.json\",'w')\n",
        "        fd.write(js)\n",
        "        fd.close()"
      ],
      "execution_count": 11,
      "outputs": []
    },
    {
      "cell_type": "code",
      "metadata": {
        "id": "uV02u-x3Sltm"
      },
      "source": [
        "id=0\n",
        "tr_id=0\n",
        "def SaleInv():\n",
        "    ui_prod  = str(input(\"Enter the product_Id: \"))\n",
        "    ui_quant = int(input(\"Enter the quantity: \"))\n",
        "    global id\n",
        "    global tr_id\n",
        "    try:\n",
        "        item=record[ui_prod]\n",
        "        if ui_quant>item['qn']:\n",
        "            raise Exception(\"Item Out of stock\")\n",
        "        else:\n",
        "            print(\"Product: \", record[ui_prod]['name'])\n",
        "            print(\"Price: \", record[ui_prod]['pr'])\n",
        "            print(\"Quantity: \",ui_quant)\n",
        "            print(\"Billing Amount: \", record[ui_prod]['pr'] * ui_quant)\n",
        "            item['qn']=item['qn']-ui_quant\n",
        "            record[ui_prod]=item\n",
        "            d={\"Transaction Id\":tr_id,\"Product\":record[ui_prod]['name'] , \"Price\":record[ui_prod]['pr'] , \"quantity\":ui_quant,\"Billing amount\": record[ui_prod]['pr'] * ui_quant}\n",
        "            inv[id]=d\n",
        "            f=open(\"invoice.json\",'w')\n",
        "            fb=json.dump(inv,f)\n",
        "            f.close()\n",
        "            fd = open(\"record.json\",'w')\n",
        "            js = json.dump(record,fd)\n",
        "            fd.close()\n",
        "            n=input(\"Do you want to add more product in your order y/n: \")\n",
        "            if(n=='n' or n=='N'):\n",
        "                tr_id+=1\n",
        "                exit()\n",
        "            else:\n",
        "                id+=1\n",
        "                SaleInv()\n",
        "    except Exception:\n",
        "        print(\"Item Out of Stock\")\n",
        "        SaleInv()\n"
      ],
      "execution_count": 12,
      "outputs": []
    },
    {
      "cell_type": "code",
      "metadata": {
        "id": "XH7Fm4Y3Slto"
      },
      "source": [
        "def delete():\n",
        "  d=input(\"Enter the product id which you want to delete\")\n",
        "  with open('record.json', 'r') as data_file:\n",
        "    data = json.load(data_file)\n",
        "    del data[d]\n",
        "    with open('record.json', 'w') as data_file:\n",
        "        data = json.dump(data, data_file)\n"
      ],
      "execution_count": 13,
      "outputs": []
    },
    {
      "cell_type": "code",
      "metadata": {
        "id": "b00OHR6JSlto"
      },
      "source": [
        "def dis():\n",
        "    fd = open(\"record.json\",'r')\n",
        "    r = fd.read()\n",
        "    fd.close()\n",
        "    record = json.loads(r)\n",
        "    df=pd.DataFrame(record)\n",
        "    print(df.T)\n",
        "\n"
      ],
      "execution_count": 14,
      "outputs": []
    },
    {
      "cell_type": "code",
      "metadata": {
        "id": "5NXIv3r5Sltp"
      },
      "source": [
        "def sale():\n",
        "    f = open(\"invoice.json\",'r')\n",
        "    b = f.read()\n",
        "    f.close()\n",
        "    bil= json.loads(b)\n",
        "    daf=pd.DataFrame(bil)\n",
        "    daf=daf.T\n",
        "    print(\"Total=\",daf['Billing amount'].sum())\n",
        "    print(daf)"
      ],
      "execution_count": 15,
      "outputs": []
    },
    {
      "cell_type": "code",
      "metadata": {
        "id": "Re1V8rzZSltq",
        "colab": {
          "base_uri": "https://localhost:8080/"
        },
        "outputId": "fe59bf11-f83a-464c-8946-c29c56dd7285"
      },
      "source": [
        "if __name__=='__main__':\n",
        "    print(\"Main Function\")\n",
        "    print(\"1.Press 1 to add new products in invemtory : \")\n",
        "    print(\"2.Press 2 to make Sale: \")\n",
        "    print(\"3.Press 3 to display the stock: \")\n",
        "    print(\"4.Press 4 to Remove products from a inventory: \")\n",
        "    print(\"5 Press 5 to generate the Total sales: \")\n",
        "    while(True):\n",
        "        k=int(input(\"Enter your choice\"))\n",
        "        if k==1:\n",
        "            AddInv()\n",
        "        elif k==2:\n",
        "            SaleInv()\n",
        "        elif k==3:\n",
        "            dis()\n",
        "        elif k==4:\n",
        "            delete()\n",
        "        elif k==5:\n",
        "            sale()\n",
        "        else:\n",
        "            print(\"Invalid choice\")\n",
        "        l=input(\"Do you want to perform more operation? Y/N\")\n",
        "        if(l=='n' or l=='N'):\n",
        "            break\n",
        "        else:\n",
        "            continue"
      ],
      "execution_count": 16,
      "outputs": [
        {
          "name": "stdout",
          "output_type": "stream",
          "text": [
            "Main Function\n",
            "1.Press 1 to add new products in invemtory : \n",
            "2.Press 2 to make Sale: \n",
            "3.Press 3 to display the stock: \n",
            "4.Press 4 to Remove products from a inventory: \n",
            "5 Press 5 to generate the Total sales: \n",
            "Enter your choice5\n",
            "Total= 186\n",
            "            name    qn     pr  ... Price quantity Billing amount\n",
            "1001  Choco Cake    34    100  ...   NaN      NaN            NaN\n",
            "1002   Milk Cake   100    800  ...   NaN      NaN            NaN\n",
            "1003       Drink   100     85  ...   NaN      NaN            NaN\n",
            "1004       Candy  1000      5  ...   NaN      NaN            NaN\n",
            "1005         Pen   100     20  ...   NaN      NaN            NaN\n",
            "1006       Phone    10  50000  ...   NaN      NaN            NaN\n",
            "1007         Mic     0   1500  ...   NaN      NaN            NaN\n",
            "1008        Case     3    599  ...   NaN      NaN            NaN\n",
            "0            NaN   NaN    NaN  ...    45        2             90\n",
            "1            NaN   NaN    NaN  ...    90        1             90\n",
            "2            NaN   NaN    NaN  ...     2        3              6\n",
            "\n",
            "[11 rows x 8 columns]\n",
            "Do you want to perform more operation? Y/NN\n"
          ]
        }
      ]
    },
    {
      "cell_type": "code",
      "metadata": {
        "id": "6qiXZ3w1Slts",
        "colab": {
          "base_uri": "https://localhost:8080/",
          "height": 306
        },
        "outputId": "1cc5e891-eac7-42a8-d5df-77eb218983d2"
      },
      "source": [
        "import pandas as pd\n",
        "pd.DataFrame(record)"
      ],
      "execution_count": 17,
      "outputs": [
        {
          "output_type": "execute_result",
          "data": {
            "text/html": [
              "<div>\n",
              "<style scoped>\n",
              "    .dataframe tbody tr th:only-of-type {\n",
              "        vertical-align: middle;\n",
              "    }\n",
              "\n",
              "    .dataframe tbody tr th {\n",
              "        vertical-align: top;\n",
              "    }\n",
              "\n",
              "    .dataframe thead th {\n",
              "        text-align: right;\n",
              "    }\n",
              "</style>\n",
              "<table border=\"1\" class=\"dataframe\">\n",
              "  <thead>\n",
              "    <tr style=\"text-align: right;\">\n",
              "      <th></th>\n",
              "      <th>1004</th>\n",
              "      <th>1001</th>\n",
              "      <th>1002</th>\n",
              "      <th>1003</th>\n",
              "      <th>1005</th>\n",
              "      <th>1006</th>\n",
              "      <th>1007</th>\n",
              "      <th>1008</th>\n",
              "      <th>1009</th>\n",
              "      <th>1010</th>\n",
              "      <th>1011</th>\n",
              "      <th>1012</th>\n",
              "      <th>1013</th>\n",
              "      <th>1014</th>\n",
              "      <th>1015</th>\n",
              "      <th>1016</th>\n",
              "      <th>1017</th>\n",
              "      <th>1018</th>\n",
              "      <th>1019</th>\n",
              "      <th>1020</th>\n",
              "      <th>1021</th>\n",
              "      <th>1022</th>\n",
              "      <th>1023</th>\n",
              "      <th>1024</th>\n",
              "      <th>1025</th>\n",
              "      <th>1026</th>\n",
              "      <th>1027</th>\n",
              "      <th>1028</th>\n",
              "      <th>1029</th>\n",
              "      <th>1030</th>\n",
              "    </tr>\n",
              "  </thead>\n",
              "  <tbody>\n",
              "    <tr>\n",
              "      <th>name</th>\n",
              "      <td>pepsi</td>\n",
              "      <td>Gulab Jamun</td>\n",
              "      <td>Rasogulla</td>\n",
              "      <td>taka tak</td>\n",
              "      <td>Kurkure</td>\n",
              "      <td>Dairy Milk</td>\n",
              "      <td>Kit-kat</td>\n",
              "      <td>Thumps up</td>\n",
              "      <td>coca cola</td>\n",
              "      <td>Dew</td>\n",
              "      <td>Sprite</td>\n",
              "      <td>Mirinda</td>\n",
              "      <td>Samosa</td>\n",
              "      <td>Jalebi</td>\n",
              "      <td>Kaju Katli</td>\n",
              "      <td>Dhokla</td>\n",
              "      <td>Munch</td>\n",
              "      <td>5 Star</td>\n",
              "      <td>Mouse</td>\n",
              "      <td>pen drive</td>\n",
              "      <td>Sauce</td>\n",
              "      <td>milk</td>\n",
              "      <td>Bread</td>\n",
              "      <td>brown bread</td>\n",
              "      <td>Sugar</td>\n",
              "      <td>Cake</td>\n",
              "      <td>choco milk</td>\n",
              "      <td>Water</td>\n",
              "      <td>Mineral Water</td>\n",
              "      <td>Mango Juice</td>\n",
              "    </tr>\n",
              "    <tr>\n",
              "      <th>pr</th>\n",
              "      <td>12</td>\n",
              "      <td>16</td>\n",
              "      <td>12</td>\n",
              "      <td>10</td>\n",
              "      <td>20</td>\n",
              "      <td>20</td>\n",
              "      <td>15</td>\n",
              "      <td>40</td>\n",
              "      <td>40</td>\n",
              "      <td>35</td>\n",
              "      <td>40</td>\n",
              "      <td>35</td>\n",
              "      <td>8</td>\n",
              "      <td>15</td>\n",
              "      <td>800</td>\n",
              "      <td>15</td>\n",
              "      <td>10</td>\n",
              "      <td>10</td>\n",
              "      <td>250</td>\n",
              "      <td>550</td>\n",
              "      <td>2</td>\n",
              "      <td>22</td>\n",
              "      <td>239</td>\n",
              "      <td>150</td>\n",
              "      <td>5</td>\n",
              "      <td>120</td>\n",
              "      <td>25</td>\n",
              "      <td>20</td>\n",
              "      <td>90</td>\n",
              "      <td>45</td>\n",
              "    </tr>\n",
              "    <tr>\n",
              "      <th>qn</th>\n",
              "      <td>300</td>\n",
              "      <td>200</td>\n",
              "      <td>400</td>\n",
              "      <td>100</td>\n",
              "      <td>50</td>\n",
              "      <td>150</td>\n",
              "      <td>76</td>\n",
              "      <td>50</td>\n",
              "      <td>40</td>\n",
              "      <td>23</td>\n",
              "      <td>30</td>\n",
              "      <td>20</td>\n",
              "      <td>80</td>\n",
              "      <td>32</td>\n",
              "      <td>10</td>\n",
              "      <td>150</td>\n",
              "      <td>200</td>\n",
              "      <td>119</td>\n",
              "      <td>100</td>\n",
              "      <td>14</td>\n",
              "      <td>487</td>\n",
              "      <td>16</td>\n",
              "      <td>200</td>\n",
              "      <td>130</td>\n",
              "      <td>280</td>\n",
              "      <td>42</td>\n",
              "      <td>20</td>\n",
              "      <td>200</td>\n",
              "      <td>24</td>\n",
              "      <td>122</td>\n",
              "    </tr>\n",
              "    <tr>\n",
              "      <th>mfd</th>\n",
              "      <td>5-01-05</td>\n",
              "      <td>12-01-21</td>\n",
              "      <td>01-04-21</td>\n",
              "      <td>03-04-21</td>\n",
              "      <td>01-02-21</td>\n",
              "      <td>8-4-21</td>\n",
              "      <td>5-1-21</td>\n",
              "      <td>5-5-21</td>\n",
              "      <td>9-01-21</td>\n",
              "      <td>22-03-21</td>\n",
              "      <td>30-2-21</td>\n",
              "      <td>07-04-21</td>\n",
              "      <td>09-5-21</td>\n",
              "      <td>22-5-21</td>\n",
              "      <td>17-6-21</td>\n",
              "      <td>12-5-21</td>\n",
              "      <td>19-5-21</td>\n",
              "      <td>15-5-21</td>\n",
              "      <td>20-6-21</td>\n",
              "      <td>28-5-21</td>\n",
              "      <td>21-8-21</td>\n",
              "      <td>23-4-21</td>\n",
              "      <td>12-02-21</td>\n",
              "      <td>03-3-21</td>\n",
              "      <td>13-3-21</td>\n",
              "      <td>16-3-21</td>\n",
              "      <td>19-5-21</td>\n",
              "      <td>12-2-21</td>\n",
              "      <td>01-1-21</td>\n",
              "      <td>10-1-21</td>\n",
              "    </tr>\n",
              "    <tr>\n",
              "      <th>exp</th>\n",
              "      <td>5-06-21</td>\n",
              "      <td>20-01-21</td>\n",
              "      <td>20-05-21</td>\n",
              "      <td>03-10-21</td>\n",
              "      <td>1-06-21</td>\n",
              "      <td>12-9-21</td>\n",
              "      <td>8-8-21</td>\n",
              "      <td>5-10-21</td>\n",
              "      <td>9-8-21</td>\n",
              "      <td>28-05-21</td>\n",
              "      <td>31-6-21</td>\n",
              "      <td>08-08-21</td>\n",
              "      <td>10-5-21</td>\n",
              "      <td>23-5-21</td>\n",
              "      <td>17-7-21</td>\n",
              "      <td>31-8-21</td>\n",
              "      <td>22-8-21</td>\n",
              "      <td>25-12-21</td>\n",
              "      <td>1 year from mfd</td>\n",
              "      <td>---</td>\n",
              "      <td>26-08-22</td>\n",
              "      <td>30-4-21</td>\n",
              "      <td>29-9-21</td>\n",
              "      <td>21-11-21</td>\n",
              "      <td>01-5-22</td>\n",
              "      <td>11-9-21</td>\n",
              "      <td>29-5-21</td>\n",
              "      <td>12-8-21</td>\n",
              "      <td>1-9-21</td>\n",
              "      <td>20-12-21</td>\n",
              "    </tr>\n",
              "  </tbody>\n",
              "</table>\n",
              "</div>"
            ],
            "text/plain": [
              "         1004         1001       1002  ...     1028           1029         1030\n",
              "name    pepsi  Gulab Jamun  Rasogulla  ...    Water  Mineral Water  Mango Juice\n",
              "pr         12           16         12  ...       20             90           45\n",
              "qn        300          200        400  ...      200             24          122\n",
              "mfd   5-01-05     12-01-21   01-04-21  ...  12-2-21        01-1-21      10-1-21\n",
              "exp   5-06-21     20-01-21   20-05-21  ...  12-8-21         1-9-21     20-12-21\n",
              "\n",
              "[5 rows x 30 columns]"
            ]
          },
          "metadata": {},
          "execution_count": 17
        }
      ]
    },
    {
      "cell_type": "code",
      "metadata": {
        "id": "HrTZqKhSkR_C",
        "colab": {
          "base_uri": "https://localhost:8080/"
        },
        "outputId": "4c79780e-606e-4cd4-aaf5-e6bf7c64d377"
      },
      "source": [
        "inv"
      ],
      "execution_count": 18,
      "outputs": [
        {
          "output_type": "execute_result",
          "data": {
            "text/plain": [
              "{'0': {'Billing amount': 90,\n",
              "  'Price': 45,\n",
              "  'Product': 'Mango Juice',\n",
              "  'Transaction Id': 0,\n",
              "  'quantity': 2},\n",
              " '1': {'Billing amount': 90,\n",
              "  'Price': 90,\n",
              "  'Product': 'Mineral Water',\n",
              "  'Transaction Id': 0,\n",
              "  'quantity': 1},\n",
              " '1001': {'name': 'Choco Cake', 'pr': 100, 'qn': 34},\n",
              " '1002': {'name': 'Milk Cake', 'pr': 800, 'qn': 100},\n",
              " '1003': {'name': 'Drink', 'pr': 85, 'qn': 100},\n",
              " '1004': {'name': 'Candy', 'pr': 5, 'qn': 1000},\n",
              " '1005': {'name': 'Pen', 'pr': 20, 'qn': 100},\n",
              " '1006': {'name': 'Phone', 'pr': 50000, 'qn': 10},\n",
              " '1007': {'name': 'Mic', 'pr': 1500, 'qn': 0},\n",
              " '1008': {'name': 'Case', 'pr': 599, 'qn': 3},\n",
              " '2': {'Billing amount': 6,\n",
              "  'Price': 2,\n",
              "  'Product': 'Sauce',\n",
              "  'Transaction Id': 0,\n",
              "  'quantity': 3}}"
            ]
          },
          "metadata": {},
          "execution_count": 18
        }
      ]
    },
    {
      "cell_type": "code",
      "metadata": {
        "id": "xfEJA_aG9nUn"
      },
      "source": [
        ""
      ],
      "execution_count": null,
      "outputs": []
    }
  ]
}